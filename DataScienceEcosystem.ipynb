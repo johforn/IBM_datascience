{
 "cells": [
  {
   "cell_type": "markdown",
   "id": "1e46735a-b1ea-4ada-9b2b-e441dc3c495c",
   "metadata": {},
   "source": [
    "# Data Science Tools and Ecosystem"
   ]
  },
  {
   "cell_type": "markdown",
   "id": "bd8e6c2f-f67e-474a-8eb7-d23b533ef872",
   "metadata": {},
   "source": [
    "## Author: \n",
    "Johanna Fornberg"
   ]
  },
  {
   "cell_type": "markdown",
   "id": "0d8b4412-c213-4b6d-8a8e-66dc039d43f4",
   "metadata": {},
   "source": [
    "In this notebook, Data Science Tools and Ecosystem are summarized."
   ]
  },
  {
   "cell_type": "markdown",
   "id": "47ea7de9-80b9-4c33-a7ea-c610151cb99c",
   "metadata": {},
   "source": [
    "**Objectives:**\n",
    "- list popular languages for data science\n",
    "- list common libraries for data science\n",
    "- list open source tools for data science\n",
    "- examples of some basic arithmetic"
   ]
  },
  {
   "cell_type": "markdown",
   "id": "d1a5cf2f-2ed0-467d-a688-83bd9fd7dfa4",
   "metadata": {},
   "source": [
    "Some of the popular languages that Data Scientists use are:\n",
    "1. Python\n",
    "2. R\n",
    "3. Julia"
   ]
  },
  {
   "cell_type": "markdown",
   "id": "e2eab840-158e-47af-a7b2-ef508783d03c",
   "metadata": {},
   "source": [
    "Some of the commonly used libraries used by Data Scientists include:\n",
    "1. numpy\n",
    "2. pandas\n",
    "3. scipy\n",
    "4. scikit-learn"
   ]
  },
  {
   "cell_type": "markdown",
   "id": "ef3ba3c5-1ec5-40cf-ae41-76ad1ae6b7a0",
   "metadata": {},
   "source": [
    "| Data Science Tools |\n",
    "----------------------\n",
    "| JupyterLabs |\n",
    "| Git |\n",
    "| Apache Spark |\n",
    "| TensorFlow |"
   ]
  },
  {
   "cell_type": "markdown",
   "id": "b2847129-3df0-4c9d-9284-3638cdf951f3",
   "metadata": {},
   "source": [
    "### Below are a few examples of evaluating arithmetic expressions in Python."
   ]
  },
  {
   "cell_type": "code",
   "execution_count": 2,
   "id": "1a6a25f5-23cc-43f1-9963-1b6f63322a93",
   "metadata": {},
   "outputs": [
    {
     "data": {
      "text/plain": [
       "17"
      ]
     },
     "execution_count": 2,
     "metadata": {},
     "output_type": "execute_result"
    }
   ],
   "source": [
    "(3*4)+5 # this a simple arithmetic expression to mutiply then add integers"
   ]
  },
  {
   "cell_type": "code",
   "execution_count": 3,
   "id": "82dd6f87-5eee-41e6-a320-9ab7c98908fe",
   "metadata": {},
   "outputs": [
    {
     "data": {
      "text/plain": [
       "3.3333333333333335"
      ]
     },
     "execution_count": 3,
     "metadata": {},
     "output_type": "execute_result"
    }
   ],
   "source": [
    "200/60 # this will convert 200 minutes to hours by diving by 60"
   ]
  }
 ],
 "metadata": {
  "kernelspec": {
   "display_name": "Python 3 (ipykernel)",
   "language": "python",
   "name": "python3"
  },
  "language_info": {
   "codemirror_mode": {
    "name": "ipython",
    "version": 3
   },
   "file_extension": ".py",
   "mimetype": "text/x-python",
   "name": "python",
   "nbconvert_exporter": "python",
   "pygments_lexer": "ipython3",
   "version": "3.7.3"
  }
 },
 "nbformat": 4,
 "nbformat_minor": 5
}
